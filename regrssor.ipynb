{
 "cells": [
  {
   "cell_type": "markdown",
   "metadata": {},
   "source": [
    "## Regresion Project"
   ]
  },
  {
   "cell_type": "markdown",
   "metadata": {},
   "source": [
    "### Importing models and dataset"
   ]
  },
  {
   "cell_type": "code",
   "execution_count": 1,
   "metadata": {},
   "outputs": [],
   "source": [
    "import pandas as pd \n",
    "import numpy as np \n",
    "import matplotlib.pyplot as plt \n",
    "%matplotlib inline"
   ]
  },
  {
   "cell_type": "code",
   "execution_count": 2,
   "metadata": {},
   "outputs": [
    {
     "output_type": "stream",
     "name": "stdout",
     "text": "<class 'pandas.core.frame.DataFrame'>\nRangeIndex: 37 entries, 0 to 36\nData columns (total 15 columns):\n #   Column                                                   Non-Null Count  Dtype \n---  ------                                                   --------------  ----- \n 0   State                                                    37 non-null     object\n 1   Cases pending investigation from previous year           37 non-null     int64 \n 2   Cases reported during the\nyear                           37 non-null     int64 \n 3   Total cases for investigation                            37 non-null     int64 \n 4   No of cases withdrawn by the Govt during investigation   37 non-null     int64 \n 5   Cases transferred to other Police Station or Magistrate  37 non-null     int64 \n 6   Cases not investigated Under 157_1_b CRPC                37 non-null     int64 \n 7   Cases Not Chargesheeted but final report Submitted       37 non-null     int64 \n 8   Cases ended as final report false                        37 non-null     int64 \n 9   Cases ended as mistake of fact or of law                 37 non-null     int64 \n 10  Cases ended as final report as Non Cognizable Submitted  37 non-null     int64 \n 11  Total final report in cases                              37 non-null     int64 \n 12  Cases Chargesheeted                                      37 non-null     int64 \n 13  Total cases disposed off by police                       37 non-null     int64 \n 14  Cases pending investigation at the end of the year       37 non-null     int64 \ndtypes: int64(14), object(1)\nmemory usage: 4.5+ KB\n"
    }
   ],
   "source": [
    "df1 = pd.read_csv(\"state-wise-women1.csv\") \n",
    "df1.info() "
   ]
  },
  {
   "cell_type": "code",
   "execution_count": 3,
   "metadata": {},
   "outputs": [],
   "source": [
    "x = df1.iloc[:-1, 1:-1].values\n",
    "y = df1.iloc[:-1, -1].values "
   ]
  },
  {
   "cell_type": "code",
   "execution_count": 4,
   "metadata": {},
   "outputs": [
    {
     "output_type": "execute_result",
     "data": {
      "text/plain": "array([[ 970,  994, 1964,    0,   10,    0,    7,   33,    3,    0,   43,\n         937,  990],\n       [  34,   92,  126,    0,    0,    0,   14,    1,    3,    0,   18,\n          63,   81],\n       [2981, 1779, 4760,    0,    6,    0,  449,    0,    0,    0,  449,\n        1276, 1731],\n       [ 861, 1008, 1869,    0,    0,    0,   33,   53,    7,    5,   98,\n        1157, 1255],\n       [ 210, 1626, 1836,    0,    0,    0,   15,    8,    0,    0,   23,\n        1608, 1631]], dtype=int64)"
     },
     "metadata": {},
     "execution_count": 4
    }
   ],
   "source": [
    "x[:5] "
   ]
  },
  {
   "cell_type": "markdown",
   "metadata": {},
   "source": [
    "### No need for Encoding and also it has no missing Data"
   ]
  },
  {
   "cell_type": "markdown",
   "metadata": {},
   "source": [
    "### Spliting the Data into training set and test set"
   ]
  },
  {
   "cell_type": "code",
   "execution_count": 5,
   "metadata": {},
   "outputs": [],
   "source": [
    "from sklearn.model_selection import train_test_split \n",
    "xtrain, xtest, ytrain, ytest = train_test_split(x, y, test_size=0.2, random_state=0)"
   ]
  },
  {
   "cell_type": "code",
   "execution_count": 6,
   "metadata": {},
   "outputs": [
    {
     "output_type": "execute_result",
     "data": {
      "text/plain": "array([[ 323, 1655, 1978,    0,   41,    0,    4,   18,    6,    0,   28,\n        1311, 1380],\n       [  11,   30,   41,    0,    0,    0,    1,    0,    0,    0,    1,\n          23,   24],\n       [  72,  336,  408,    0,    0,    0,   58,   14,    0,    1,   73,\n         263,  336],\n       [   4,    6,   10,    0,    0,    0,    0,    0,    0,    0,    0,\n           4,    4],\n       [1053, 2155, 3208,    0,    5,    0,   27,    6,   25,    0,   58,\n        2109, 2172]], dtype=int64)"
     },
     "metadata": {},
     "execution_count": 6
    }
   ],
   "source": [
    "xtrain[:5]"
   ]
  },
  {
   "cell_type": "markdown",
   "metadata": {},
   "source": [
    "### Feaure Scaling"
   ]
  },
  {
   "cell_type": "code",
   "execution_count": 7,
   "metadata": {},
   "outputs": [],
   "source": [
    "from sklearn.preprocessing import StandardScaler \n",
    "sc = StandardScaler() \n",
    "xtrain = sc.fit_transform(xtrain) \n",
    "xtest = sc.transform(xtest) "
   ]
  },
  {
   "cell_type": "code",
   "execution_count": 8,
   "metadata": {},
   "outputs": [
    {
     "output_type": "execute_result",
     "data": {
      "text/plain": "array([[-0.1846515 ,  0.28379985,  0.18173757, -0.22808578,  4.17692903,\n        -0.2773501 , -0.32405205, -0.26168454, -0.13763909, -0.39343842,\n        -0.32739154,  0.17767275,  0.10530486],\n       [-0.83093173, -0.83536233, -0.90836625, -0.22808578, -0.50123148,\n        -0.2773501 , -0.3593116 , -0.32166135, -0.55055637, -0.39343842,\n        -0.4078035 , -0.84819821, -0.84869535],\n       [-0.70457566, -0.62461548, -0.70182619, -0.22808578, -0.50123148,\n        -0.2773501 ,  0.31061984, -0.27501272, -0.55055637, -0.17743301,\n        -0.19337161, -0.65704213, -0.62919088],\n       [-0.84543161, -0.85189149, -0.92581241, -0.22808578, -0.50123148,\n        -0.2773501 , -0.37106479, -0.32166135, -0.55055637, -0.39343842,\n        -0.41078172, -0.8633314 , -0.86276615],\n       [ 1.32747854,  0.62815744,  0.8739563 , -0.22808578,  0.0692759 ,\n        -0.2773501 , -0.05372884, -0.30166908,  1.16993228, -0.39343842,\n        -0.23804492,  0.81326671,  0.66250852]])"
     },
     "metadata": {},
     "execution_count": 8
    }
   ],
   "source": [
    "xtrain[:5] "
   ]
  },
  {
   "cell_type": "markdown",
   "metadata": {},
   "source": [
    "### Training various ML Models over same training model."
   ]
  },
  {
   "cell_type": "code",
   "execution_count": 9,
   "metadata": {},
   "outputs": [],
   "source": [
    "from sklearn.linear_model import LinearRegression \n",
    "from sklearn.neighbors import KNeighborsRegressor\n",
    "from sklearn.tree import DecisionTreeRegressor \n",
    "from sklearn.svm import SVR\n",
    "from sklearn.ensemble import RandomForestRegressor\n",
    "\n",
    "lrr = LinearRegression()\n",
    "lrr.fit(xtrain, ytrain) \n",
    "lrpred = lrr.predict(xtest) \n",
    "\n",
    "knnr = KNeighborsRegressor() \n",
    "knnr.fit(xtrain, ytrain) \n",
    "knnpred = knnr.predict(xtest) \n",
    "\n",
    "dtr = DecisionTreeRegressor(random_state=0) \n",
    "dtr.fit(xtrain, ytrain) \n",
    "dtpred = dtr.predict(xtest)  \n",
    "\n",
    "svr = SVR(kernel=\"rbf\") \n",
    "svr.fit(xtrain, ytrain) \n",
    "svmpred = svr.predict(xtest) \n",
    "\n",
    "rfr = RandomForestRegressor(n_estimators=10, random_state=0) \n",
    "rfr.fit(xtrain, ytrain) \n",
    "rfpred = rfr.predict(xtest) "
   ]
  },
  {
   "cell_type": "markdown",
   "metadata": {},
   "source": [
    "### Evaluating Models"
   ]
  },
  {
   "cell_type": "code",
   "execution_count": 10,
   "metadata": {},
   "outputs": [
    {
     "output_type": "execute_result",
     "data": {
      "text/plain": "1.0"
     },
     "metadata": {},
     "execution_count": 10
    }
   ],
   "source": [
    "from sklearn.metrics import r2_score\n",
    "\n",
    "# Logestic Regressor\n",
    "r2_score(ytest, lrpred)"
   ]
  },
  {
   "cell_type": "code",
   "execution_count": 11,
   "metadata": {},
   "outputs": [
    {
     "output_type": "execute_result",
     "data": {
      "text/plain": "0.33123457204726414"
     },
     "metadata": {},
     "execution_count": 11
    }
   ],
   "source": [
    "# K-NearestNeighbour \n",
    "r2_score(ytest, knnpred) "
   ]
  },
  {
   "cell_type": "code",
   "execution_count": 12,
   "metadata": {},
   "outputs": [
    {
     "output_type": "execute_result",
     "data": {
      "text/plain": "-0.13353413963044058"
     },
     "metadata": {},
     "execution_count": 12
    }
   ],
   "source": [
    "# Decision Tree Classifier \n",
    "r2_score(ytest, dtpred) "
   ]
  },
  {
   "cell_type": "code",
   "execution_count": 13,
   "metadata": {},
   "outputs": [
    {
     "output_type": "execute_result",
     "data": {
      "text/plain": "-0.1626151711157171"
     },
     "metadata": {},
     "execution_count": 13
    }
   ],
   "source": [
    "# Support Vector Machines \n",
    "r2_score(ytest, svmpred) "
   ]
  },
  {
   "cell_type": "code",
   "execution_count": 15,
   "metadata": {},
   "outputs": [
    {
     "output_type": "execute_result",
     "data": {
      "text/plain": "0.5462161782827804"
     },
     "metadata": {},
     "execution_count": 15
    }
   ],
   "source": [
    "# Random Forest \n",
    "r2_score(ytest, rfpred) "
   ]
  },
  {
   "cell_type": "markdown",
   "metadata": {},
   "source": [
    "## End of the Project"
   ]
  }
 ],
 "metadata": {
  "language_info": {
   "codemirror_mode": {
    "name": "ipython",
    "version": 3
   },
   "file_extension": ".py",
   "mimetype": "text/x-python",
   "name": "python",
   "nbconvert_exporter": "python",
   "pygments_lexer": "ipython3",
   "version": "3.8.3-final"
  },
  "orig_nbformat": 2,
  "kernelspec": {
   "name": "python38364bitvenvvenv1a367700542447c18d26d2d447f66945",
   "display_name": "Python 3.8.3 64-bit ('venv': venv)"
  }
 },
 "nbformat": 4,
 "nbformat_minor": 2
}